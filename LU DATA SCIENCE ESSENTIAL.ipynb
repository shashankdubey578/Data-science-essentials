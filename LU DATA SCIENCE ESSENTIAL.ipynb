{
 "cells": [
  {
   "cell_type": "code",
   "execution_count": 4,
   "metadata": {},
   "outputs": [],
   "source": [
    "# 1. RAINBOW"
   ]
  },
  {
   "cell_type": "code",
   "execution_count": 3,
   "metadata": {},
   "outputs": [
    {
     "name": "stdout",
     "output_type": "stream",
     "text": [
      "LETS UPGRADE\n"
     ]
    }
   ],
   "source": [
    "#2. answers\n",
    "print(\"LETS UPGRADE\")\n"
   ]
  },
  {
   "cell_type": "code",
   "execution_count": 9,
   "metadata": {},
   "outputs": [
    {
     "name": "stdout",
     "output_type": "stream",
     "text": [
      "Enter your Cost price20\n",
      "Enter your selling price40\n",
      "profit\n"
     ]
    }
   ],
   "source": [
    "# 3. answer\n",
    "cp = int(input(\"Cost price\"))\n",
    "sp = int(input(\"selling price\"))\n",
    "if sp>cp:\n",
    "    print(\"profit\")\n",
    "elif sp<cp:\n",
    "        print(\"loss\")\n",
    "else :\n",
    "            print(\"neither\")"
   ]
  },
  {
   "cell_type": "code",
   "execution_count": 12,
   "metadata": {},
   "outputs": [
    {
     "name": "stdout",
     "output_type": "stream",
     "text": [
      "Enter amount (in euro)2\n",
      "160 INR\n"
     ]
    }
   ],
   "source": [
    "# 4. answer\n",
    "x = int(input(\"Text case\"))\n",
    "print(x*80,'INR')\n",
    "\n"
   ]
  },
  {
   "cell_type": "code",
   "execution_count": null,
   "metadata": {},
   "outputs": [],
   "source": [
    "#5. answer\n"
   ]
  }
 ],
 "metadata": {
  "kernelspec": {
   "display_name": "Python 3",
   "language": "python",
   "name": "python3"
  },
  "language_info": {
   "codemirror_mode": {
    "name": "ipython",
    "version": 3
   },
   "file_extension": ".py",
   "mimetype": "text/x-python",
   "name": "python",
   "nbconvert_exporter": "python",
   "pygments_lexer": "ipython3",
   "version": "3.8.3"
  }
 },
 "nbformat": 4,
 "nbformat_minor": 4
}
